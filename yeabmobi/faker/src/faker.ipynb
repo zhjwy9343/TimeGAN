{
 "cells": [
  {
   "cell_type": "code",
   "execution_count": null,
   "metadata": {},
   "outputs": [],
   "source": [
    "import sagemaker\n",
    "from sagemaker.tensorflow import TensorFlow\n",
    "sagemaker_session = sagemaker.Session()\n",
    "region = sagemaker_session.boto_session.region_name\n",
    "\n",
    "import time\n",
    "cur_time=time.strftime(\"%Y-%m-%d-%H-%M-%S\", time.localtime())\n",
    "base_job_name='faker-'+cur_time"
   ]
  },
  {
   "cell_type": "code",
   "execution_count": null,
   "metadata": {
    "pycharm": {
     "name": "#%%\n"
    }
   },
   "outputs": [],
   "source": [
    "bucket=sagemaker.Session().default_bucket()\n",
    "checkpoint_in_bucket=\"checkpoints\"\n",
    "checkpoint_s3_bucket=\"s3://{}/{}/{}\".format(bucket, base_job_name, checkpoint_in_bucket)\n",
    "checkpoint_dir=\"/opt/ml/checkpoints\"\n",
    "\n",
    "hyperparameters = {'work_dir': '/opt/ml',\n",
    "                   'data_name': 'train.txt',\n",
    "                   'seq_len': 64,\n",
    "                   'module': 'lstmLN',\n",
    "                   'hidden_dim': 32,\n",
    "                   'num_layer': 3,\n",
    "                   'iteration': 20000,\n",
    "                   'batch_size': 1024,\n",
    "                   'metric_iteration': 5,\n",
    "                   'learning_rate': 1e-4,\n",
    "                  }\n",
    "\n",
    "estimator = TensorFlow(entry_point='run.sh',\n",
    "                       source_dir='./',\n",
    "                       role='',\n",
    "                       framework_version='1.15',\n",
    "                       py_version='py37',\n",
    "                       use_spot_instances=True,\n",
    "                       max_wait=5*86400,\n",
    "                       max_run=4*86400,\n",
    "                       tags=[{\"Key\":\"CodeName\",\"Value\":\"ctr\"}],\n",
    "                       instance_type='ml.p3.2xlarge',\n",
    "                       instance_count=1,\n",
    "                       volume_size=40,\n",
    "                       hyperparameters=hyperparameters,\n",
    "                       script_mode=True,\n",
    "                       disable_profiler=True,\n",
    "                       base_job_name=base_job_name,\n",
    "                       checkpoint_s3_uri=checkpoint_s3_bucket,\n",
    "                       checkpoint_local_path=checkpoint_dir\n",
    "                       )"
   ]
  },
  {
   "cell_type": "code",
   "execution_count": null,
   "metadata": {
    "pycharm": {
     "name": "#%%\n"
    }
   },
   "outputs": [],
   "source": [
    "inputs='s3://algo.yeahmobi.com/faker/demo/'\n",
    "estimator.fit(inputs={'train': inputs},\n",
    "              wait=False,\n",
    "              job_name=base_job_name)\n"
   ]
  }
 ],
 "metadata": {
  "kernelspec": {
   "display_name": "Python 3",
   "language": "python",
   "name": "python3"
  },
  "language_info": {
   "codemirror_mode": {
    "name": "ipython",
    "version": 3
   },
   "file_extension": ".py",
   "mimetype": "text/x-python",
   "name": "python",
   "nbconvert_exporter": "python",
   "pygments_lexer": "ipython3",
   "version": "3.7.4"
  }
 },
 "nbformat": 4,
 "nbformat_minor": 1
}
